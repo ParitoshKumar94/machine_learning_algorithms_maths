{
 "cells": [
  {
   "cell_type": "code",
   "execution_count": 4,
   "id": "3dda1ea1",
   "metadata": {},
   "outputs": [],
   "source": [
    "import numpy as np\n",
    "from sklearn.model_selection import train_test_split\n",
    "from sklearn import datasets\n",
    "from numpy.random import randn\n",
    "import random"
   ]
  },
  {
   "cell_type": "code",
   "execution_count": 23,
   "id": "7f43c2c0",
   "metadata": {},
   "outputs": [],
   "source": [
    "class LinearRegression :\n",
    "    def __init__(self, learning_rate=0.01, n_iters=100):\n",
    "        self.lr= learning_rate\n",
    "        self.n_iters =n_iters\n",
    "        self.weights =None\n",
    "        self.bias =None\n",
    "        \n",
    "    def fit(self,X,y):\n",
    "        n_samples,n_features=X.shape       \n",
    "        self.weights=np.zeros(n_features)\n",
    "        self.bias=0\n",
    "        \n",
    "        \n",
    "        for _ in range(self.n_iters):\n",
    "            y_predicted= np.dot(X,self.weights) +self.bias\n",
    "            dw = (1 / n_samples) * np.dot(X.T, (y_predicted - y))\n",
    "            db = (1 / n_samples) * np.sum(y_predicted - y)\n",
    "            \n",
    "            self.weights =self.weights -self.lr*dw\n",
    "            self.bias    =self.bias-self.lr*db\n",
    "    \n",
    "    def predictions(self,X):\n",
    "        y_approximated=np.dot(X,self.weights)+self.bias\n",
    "        return y_approximated\n",
    "    \n",
    "def mean_squared_error(y_true,y_pred):\n",
    "    return np.mean((y_true-y_pred)**2)\n",
    "    \n",
    "            \n",
    "            "
   ]
  },
  {
   "cell_type": "code",
   "execution_count": 24,
   "id": "a87b42ee",
   "metadata": {},
   "outputs": [],
   "source": [
    "\n",
    "X, y = datasets.make_regression(n_samples=100, n_features=1,noise=20,random_state=4)\n",
    "X_train, X_test ,y_train,y_test= train_test_split(X,y, test_size=0.2)\n",
    "regressor=LinearRegression(learning_rate=0.01, n_iters=1000)\n",
    "regressor.fit(X_train,y_train)\n",
    "predictions=regressor.predictions(X_test)\n",
    "mse=mean_squared_error(y_test,predictions)"
   ]
  },
  {
   "cell_type": "code",
   "execution_count": 25,
   "id": "96fc9c28",
   "metadata": {},
   "outputs": [
    {
     "data": {
      "text/plain": [
       "448.64726036484683"
      ]
     },
     "execution_count": 25,
     "metadata": {},
     "output_type": "execute_result"
    }
   ],
   "source": [
    "mse"
   ]
  },
  {
   "cell_type": "code",
   "execution_count": null,
   "id": "6e592266",
   "metadata": {},
   "outputs": [],
   "source": []
  }
 ],
 "metadata": {
  "kernelspec": {
   "display_name": "Python 3",
   "language": "python",
   "name": "python3"
  },
  "language_info": {
   "codemirror_mode": {
    "name": "ipython",
    "version": 3
   },
   "file_extension": ".py",
   "mimetype": "text/x-python",
   "name": "python",
   "nbconvert_exporter": "python",
   "pygments_lexer": "ipython3",
   "version": "3.8.8"
  }
 },
 "nbformat": 4,
 "nbformat_minor": 5
}
